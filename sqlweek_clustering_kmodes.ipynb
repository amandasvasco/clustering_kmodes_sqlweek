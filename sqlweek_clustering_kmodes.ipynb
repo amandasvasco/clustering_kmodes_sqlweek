{
  "nbformat": 4,
  "nbformat_minor": 0,
  "metadata": {
    "colab": {
      "provenance": []
    },
    "kernelspec": {
      "name": "python3",
      "display_name": "Python 3"
    },
    "language_info": {
      "name": "python"
    }
  },
  "cells": [
    {
      "cell_type": "markdown",
      "source": [
        "# Clustering - Vacinados contra a Covid-19 em Recife 🦠"
      ],
      "metadata": {
        "id": "2fLtvT-PoQ8a"
      }
    },
    {
      "cell_type": "markdown",
      "source": [
        "* Task:\n",
        "A diretoria de comunicação da Secretaria de Saúde do Recife quer organizar uma campanha de comunicação acerca da vacinação contra COVID-19 via chatbot no whatsapp. Para isso o gestor da campanha necessita estratificar os grupos para personalizar as mensagens afim de aumentar o engajamento e efetividade da campanha.\n",
        "\n",
        "Fonte de dados: \n",
        "http://dados.recife.pe.gov.br/dataset/7ccb3816-0d62-49e1-b39a-3159870883b0/resource/bceb5759-5500-49db-bc86-b038892acc06/download/vacinados.csv"
      ],
      "metadata": {
        "id": "LOWv1pOaobTg"
      }
    },
    {
      "cell_type": "markdown",
      "source": [
        "## 1 - Importar dados"
      ],
      "metadata": {
        "id": "LcAZpJVvodti"
      }
    },
    {
      "cell_type": "code",
      "source": [
        "# Importar pacotes\n",
        "import pandas as pd"
      ],
      "metadata": {
        "id": "Ch7lhey3oZLS"
      },
      "execution_count": 1,
      "outputs": []
    },
    {
      "cell_type": "code",
      "source": [
        "# Carregar dataset\n",
        "df = pd.read_csv('http://dados.recife.pe.gov.br/dataset/7ccb3816-0d62-49e1-b39a-3159870883b0/resource/bceb5759-5500-49db-bc86-b038892acc06/download/vacinados.csv', sep=';', nrows=10000)"
      ],
      "metadata": {
        "id": "LgDJ7URtoi4e"
      },
      "execution_count": 2,
      "outputs": []
    },
    {
      "cell_type": "code",
      "source": [
        "df.head(5)"
      ],
      "metadata": {
        "colab": {
          "base_uri": "https://localhost:8080/",
          "height": 617
        },
        "id": "uGMQkkHxkgdo",
        "outputId": "8fe68332-35fd-4654-90c8-a45011b60349"
      },
      "execution_count": 3,
      "outputs": [
        {
          "output_type": "execute_result",
          "data": {
            "text/plain": [
              "   faixa_etaria idade       sexo raca_cor municipio  \\\n",
              "0  40 a 44 anos    42   FEMININO    PARDA    RECIFE   \n",
              "1  40 a 44 anos    42  MASCULINO   BRANCA    RECIFE   \n",
              "2  40 a 44 anos    42  MASCULINO   BRANCA    RECIFE   \n",
              "3  40 a 44 anos    41   FEMININO    PARDA    RECIFE   \n",
              "4  45 a 49 anos    47  MASCULINO   BRANCA    RECIFE   \n",
              "\n",
              "                             grupo categoria     lote  \\\n",
              "0  PÚBLICO EM GERAL (18 a 59 anos)    OUTROS   210453   \n",
              "1  PÚBLICO EM GERAL (18 a 59 anos)    OUTROS   210279   \n",
              "2  PÚBLICO EM GERAL (18 a 59 anos)    OUTROS   210215   \n",
              "3  PÚBLICO EM GERAL (18 a 59 anos)    OUTROS  211A21A   \n",
              "4  PÚBLICO EM GERAL (18 a 59 anos)    OUTROS   EY0586   \n",
              "\n",
              "                                  vacina_fabricante  descricao_dose  \\\n",
              "0                1 - CORONAVAC - SINOVAC (BUTANTAN)             2.0   \n",
              "1                1 - CORONAVAC - SINOVAC (BUTANTAN)             1.0   \n",
              "2                1 - CORONAVAC - SINOVAC (BUTANTAN)             2.0   \n",
              "3  4 - JANSSEN COVID-19 VACCINE (JOHNSON & JOHNSON)             1.0   \n",
              "4                            3 - COMIRNATY (PFIZER)             1.0   \n",
              "\n",
              "                                                cnes  sistema_origem  \\\n",
              "0     DS 6: CNES: 0001392 - MIGUEL DE LIMA VALVERDE.  Conecta Recife   \n",
              "1  DS 7: CNES: 0000647 - POLICLINICA CLEMENTINO F...  Conecta Recife   \n",
              "2      DS 3: CNES: 000612 - POLICLÍNICA ALBERT SABIN  Conecta Recife   \n",
              "3       DS 4: CNES: 0000639 - UBS JOAQUIM CAVALCANTE  Conecta Recife   \n",
              "4  DS 7: CNES: 0000647 - POLICLINICA CLEMENTINO F...  Conecta Recife   \n",
              "\n",
              "          data_vacinacao  \n",
              "0  2021-09-25 00:00:00.0  \n",
              "1  2021-07-01 00:00:00.0  \n",
              "2  2021-07-22 00:00:00.0  \n",
              "3  2021-07-06 00:00:00.0  \n",
              "4  2021-07-12 00:00:00.0  "
            ],
            "text/html": [
              "\n",
              "  <div id=\"df-f8ac2742-9ffc-426e-9d28-119fe2cc2208\">\n",
              "    <div class=\"colab-df-container\">\n",
              "      <div>\n",
              "<style scoped>\n",
              "    .dataframe tbody tr th:only-of-type {\n",
              "        vertical-align: middle;\n",
              "    }\n",
              "\n",
              "    .dataframe tbody tr th {\n",
              "        vertical-align: top;\n",
              "    }\n",
              "\n",
              "    .dataframe thead th {\n",
              "        text-align: right;\n",
              "    }\n",
              "</style>\n",
              "<table border=\"1\" class=\"dataframe\">\n",
              "  <thead>\n",
              "    <tr style=\"text-align: right;\">\n",
              "      <th></th>\n",
              "      <th>faixa_etaria</th>\n",
              "      <th>idade</th>\n",
              "      <th>sexo</th>\n",
              "      <th>raca_cor</th>\n",
              "      <th>municipio</th>\n",
              "      <th>grupo</th>\n",
              "      <th>categoria</th>\n",
              "      <th>lote</th>\n",
              "      <th>vacina_fabricante</th>\n",
              "      <th>descricao_dose</th>\n",
              "      <th>cnes</th>\n",
              "      <th>sistema_origem</th>\n",
              "      <th>data_vacinacao</th>\n",
              "    </tr>\n",
              "  </thead>\n",
              "  <tbody>\n",
              "    <tr>\n",
              "      <th>0</th>\n",
              "      <td>40 a 44 anos</td>\n",
              "      <td>42</td>\n",
              "      <td>FEMININO</td>\n",
              "      <td>PARDA</td>\n",
              "      <td>RECIFE</td>\n",
              "      <td>PÚBLICO EM GERAL (18 a 59 anos)</td>\n",
              "      <td>OUTROS</td>\n",
              "      <td>210453</td>\n",
              "      <td>1 - CORONAVAC - SINOVAC (BUTANTAN)</td>\n",
              "      <td>2.0</td>\n",
              "      <td>DS 6: CNES: 0001392 - MIGUEL DE LIMA VALVERDE.</td>\n",
              "      <td>Conecta Recife</td>\n",
              "      <td>2021-09-25 00:00:00.0</td>\n",
              "    </tr>\n",
              "    <tr>\n",
              "      <th>1</th>\n",
              "      <td>40 a 44 anos</td>\n",
              "      <td>42</td>\n",
              "      <td>MASCULINO</td>\n",
              "      <td>BRANCA</td>\n",
              "      <td>RECIFE</td>\n",
              "      <td>PÚBLICO EM GERAL (18 a 59 anos)</td>\n",
              "      <td>OUTROS</td>\n",
              "      <td>210279</td>\n",
              "      <td>1 - CORONAVAC - SINOVAC (BUTANTAN)</td>\n",
              "      <td>1.0</td>\n",
              "      <td>DS 7: CNES: 0000647 - POLICLINICA CLEMENTINO F...</td>\n",
              "      <td>Conecta Recife</td>\n",
              "      <td>2021-07-01 00:00:00.0</td>\n",
              "    </tr>\n",
              "    <tr>\n",
              "      <th>2</th>\n",
              "      <td>40 a 44 anos</td>\n",
              "      <td>42</td>\n",
              "      <td>MASCULINO</td>\n",
              "      <td>BRANCA</td>\n",
              "      <td>RECIFE</td>\n",
              "      <td>PÚBLICO EM GERAL (18 a 59 anos)</td>\n",
              "      <td>OUTROS</td>\n",
              "      <td>210215</td>\n",
              "      <td>1 - CORONAVAC - SINOVAC (BUTANTAN)</td>\n",
              "      <td>2.0</td>\n",
              "      <td>DS 3: CNES: 000612 - POLICLÍNICA ALBERT SABIN</td>\n",
              "      <td>Conecta Recife</td>\n",
              "      <td>2021-07-22 00:00:00.0</td>\n",
              "    </tr>\n",
              "    <tr>\n",
              "      <th>3</th>\n",
              "      <td>40 a 44 anos</td>\n",
              "      <td>41</td>\n",
              "      <td>FEMININO</td>\n",
              "      <td>PARDA</td>\n",
              "      <td>RECIFE</td>\n",
              "      <td>PÚBLICO EM GERAL (18 a 59 anos)</td>\n",
              "      <td>OUTROS</td>\n",
              "      <td>211A21A</td>\n",
              "      <td>4 - JANSSEN COVID-19 VACCINE (JOHNSON &amp; JOHNSON)</td>\n",
              "      <td>1.0</td>\n",
              "      <td>DS 4: CNES: 0000639 - UBS JOAQUIM CAVALCANTE</td>\n",
              "      <td>Conecta Recife</td>\n",
              "      <td>2021-07-06 00:00:00.0</td>\n",
              "    </tr>\n",
              "    <tr>\n",
              "      <th>4</th>\n",
              "      <td>45 a 49 anos</td>\n",
              "      <td>47</td>\n",
              "      <td>MASCULINO</td>\n",
              "      <td>BRANCA</td>\n",
              "      <td>RECIFE</td>\n",
              "      <td>PÚBLICO EM GERAL (18 a 59 anos)</td>\n",
              "      <td>OUTROS</td>\n",
              "      <td>EY0586</td>\n",
              "      <td>3 - COMIRNATY (PFIZER)</td>\n",
              "      <td>1.0</td>\n",
              "      <td>DS 7: CNES: 0000647 - POLICLINICA CLEMENTINO F...</td>\n",
              "      <td>Conecta Recife</td>\n",
              "      <td>2021-07-12 00:00:00.0</td>\n",
              "    </tr>\n",
              "  </tbody>\n",
              "</table>\n",
              "</div>\n",
              "      <button class=\"colab-df-convert\" onclick=\"convertToInteractive('df-f8ac2742-9ffc-426e-9d28-119fe2cc2208')\"\n",
              "              title=\"Convert this dataframe to an interactive table.\"\n",
              "              style=\"display:none;\">\n",
              "        \n",
              "  <svg xmlns=\"http://www.w3.org/2000/svg\" height=\"24px\"viewBox=\"0 0 24 24\"\n",
              "       width=\"24px\">\n",
              "    <path d=\"M0 0h24v24H0V0z\" fill=\"none\"/>\n",
              "    <path d=\"M18.56 5.44l.94 2.06.94-2.06 2.06-.94-2.06-.94-.94-2.06-.94 2.06-2.06.94zm-11 1L8.5 8.5l.94-2.06 2.06-.94-2.06-.94L8.5 2.5l-.94 2.06-2.06.94zm10 10l.94 2.06.94-2.06 2.06-.94-2.06-.94-.94-2.06-.94 2.06-2.06.94z\"/><path d=\"M17.41 7.96l-1.37-1.37c-.4-.4-.92-.59-1.43-.59-.52 0-1.04.2-1.43.59L10.3 9.45l-7.72 7.72c-.78.78-.78 2.05 0 2.83L4 21.41c.39.39.9.59 1.41.59.51 0 1.02-.2 1.41-.59l7.78-7.78 2.81-2.81c.8-.78.8-2.07 0-2.86zM5.41 20L4 18.59l7.72-7.72 1.47 1.35L5.41 20z\"/>\n",
              "  </svg>\n",
              "      </button>\n",
              "      \n",
              "  <style>\n",
              "    .colab-df-container {\n",
              "      display:flex;\n",
              "      flex-wrap:wrap;\n",
              "      gap: 12px;\n",
              "    }\n",
              "\n",
              "    .colab-df-convert {\n",
              "      background-color: #E8F0FE;\n",
              "      border: none;\n",
              "      border-radius: 50%;\n",
              "      cursor: pointer;\n",
              "      display: none;\n",
              "      fill: #1967D2;\n",
              "      height: 32px;\n",
              "      padding: 0 0 0 0;\n",
              "      width: 32px;\n",
              "    }\n",
              "\n",
              "    .colab-df-convert:hover {\n",
              "      background-color: #E2EBFA;\n",
              "      box-shadow: 0px 1px 2px rgba(60, 64, 67, 0.3), 0px 1px 3px 1px rgba(60, 64, 67, 0.15);\n",
              "      fill: #174EA6;\n",
              "    }\n",
              "\n",
              "    [theme=dark] .colab-df-convert {\n",
              "      background-color: #3B4455;\n",
              "      fill: #D2E3FC;\n",
              "    }\n",
              "\n",
              "    [theme=dark] .colab-df-convert:hover {\n",
              "      background-color: #434B5C;\n",
              "      box-shadow: 0px 1px 3px 1px rgba(0, 0, 0, 0.15);\n",
              "      filter: drop-shadow(0px 1px 2px rgba(0, 0, 0, 0.3));\n",
              "      fill: #FFFFFF;\n",
              "    }\n",
              "  </style>\n",
              "\n",
              "      <script>\n",
              "        const buttonEl =\n",
              "          document.querySelector('#df-f8ac2742-9ffc-426e-9d28-119fe2cc2208 button.colab-df-convert');\n",
              "        buttonEl.style.display =\n",
              "          google.colab.kernel.accessAllowed ? 'block' : 'none';\n",
              "\n",
              "        async function convertToInteractive(key) {\n",
              "          const element = document.querySelector('#df-f8ac2742-9ffc-426e-9d28-119fe2cc2208');\n",
              "          const dataTable =\n",
              "            await google.colab.kernel.invokeFunction('convertToInteractive',\n",
              "                                                     [key], {});\n",
              "          if (!dataTable) return;\n",
              "\n",
              "          const docLinkHtml = 'Like what you see? Visit the ' +\n",
              "            '<a target=\"_blank\" href=https://colab.research.google.com/notebooks/data_table.ipynb>data table notebook</a>'\n",
              "            + ' to learn more about interactive tables.';\n",
              "          element.innerHTML = '';\n",
              "          dataTable['output_type'] = 'display_data';\n",
              "          await google.colab.output.renderOutput(dataTable, element);\n",
              "          const docLink = document.createElement('div');\n",
              "          docLink.innerHTML = docLinkHtml;\n",
              "          element.appendChild(docLink);\n",
              "        }\n",
              "      </script>\n",
              "    </div>\n",
              "  </div>\n",
              "  "
            ]
          },
          "metadata": {},
          "execution_count": 3
        }
      ]
    },
    {
      "cell_type": "markdown",
      "source": [
        "## 2 - Análise Exploratória + Data Cleaning"
      ],
      "metadata": {
        "id": "HIXj5Qcpp12h"
      }
    },
    {
      "cell_type": "code",
      "source": [
        "# Inofrmações Gerais\n",
        "df.info()"
      ],
      "metadata": {
        "colab": {
          "base_uri": "https://localhost:8080/"
        },
        "id": "AfxxOm4Eol6K",
        "outputId": "a94ae74a-0af8-44c2-bacf-7e2685b12607"
      },
      "execution_count": 4,
      "outputs": [
        {
          "output_type": "stream",
          "name": "stdout",
          "text": [
            "<class 'pandas.core.frame.DataFrame'>\n",
            "RangeIndex: 10000 entries, 0 to 9999\n",
            "Data columns (total 13 columns):\n",
            " #   Column             Non-Null Count  Dtype  \n",
            "---  ------             --------------  -----  \n",
            " 0   faixa_etaria       9998 non-null   object \n",
            " 1   idade              9999 non-null   object \n",
            " 2   sexo               10000 non-null  object \n",
            " 3   raca_cor           9999 non-null   object \n",
            " 4   municipio          9989 non-null   object \n",
            " 5   grupo              10000 non-null  object \n",
            " 6   categoria          7349 non-null   object \n",
            " 7   lote               9999 non-null   object \n",
            " 8   vacina_fabricante  9998 non-null   object \n",
            " 9   descricao_dose     9998 non-null   float64\n",
            " 10  cnes               9998 non-null   object \n",
            " 11  sistema_origem     9998 non-null   object \n",
            " 12  data_vacinacao     9998 non-null   object \n",
            "dtypes: float64(1), object(12)\n",
            "memory usage: 1015.8+ KB\n"
          ]
        }
      ]
    },
    {
      "cell_type": "code",
      "source": [
        "df['descricao_dose'] = df['descricao_dose'].astype(str)"
      ],
      "metadata": {
        "id": "xds7PTC7lTjD"
      },
      "execution_count": 5,
      "outputs": []
    },
    {
      "cell_type": "code",
      "source": [
        "df.info()"
      ],
      "metadata": {
        "colab": {
          "base_uri": "https://localhost:8080/"
        },
        "id": "1gKK2XOUlhfA",
        "outputId": "593be9e1-eb70-40dc-ba90-3c25bf6bf249"
      },
      "execution_count": 6,
      "outputs": [
        {
          "output_type": "stream",
          "name": "stdout",
          "text": [
            "<class 'pandas.core.frame.DataFrame'>\n",
            "RangeIndex: 10000 entries, 0 to 9999\n",
            "Data columns (total 13 columns):\n",
            " #   Column             Non-Null Count  Dtype \n",
            "---  ------             --------------  ----- \n",
            " 0   faixa_etaria       9998 non-null   object\n",
            " 1   idade              9999 non-null   object\n",
            " 2   sexo               10000 non-null  object\n",
            " 3   raca_cor           9999 non-null   object\n",
            " 4   municipio          9989 non-null   object\n",
            " 5   grupo              10000 non-null  object\n",
            " 6   categoria          7349 non-null   object\n",
            " 7   lote               9999 non-null   object\n",
            " 8   vacina_fabricante  9998 non-null   object\n",
            " 9   descricao_dose     10000 non-null  object\n",
            " 10  cnes               9998 non-null   object\n",
            " 11  sistema_origem     9998 non-null   object\n",
            " 12  data_vacinacao     9998 non-null   object\n",
            "dtypes: object(13)\n",
            "memory usage: 1015.8+ KB\n"
          ]
        }
      ]
    },
    {
      "cell_type": "code",
      "source": [
        "# Valores únicos dos data types object\n",
        "df.select_dtypes('object').nunique()"
      ],
      "metadata": {
        "colab": {
          "base_uri": "https://localhost:8080/"
        },
        "id": "KkH9MdXYp_iN",
        "outputId": "0afde2e3-020f-4f29-ef3b-7275b4efb8dd"
      },
      "execution_count": 7,
      "outputs": [
        {
          "output_type": "execute_result",
          "data": {
            "text/plain": [
              "faixa_etaria          19\n",
              "idade                 88\n",
              "sexo                   4\n",
              "raca_cor               7\n",
              "municipio             17\n",
              "grupo                 20\n",
              "categoria             79\n",
              "lote                 128\n",
              "vacina_fabricante      4\n",
              "descricao_dose         4\n",
              "cnes                   9\n",
              "sistema_origem         1\n",
              "data_vacinacao       398\n",
              "dtype: int64"
            ]
          },
          "metadata": {},
          "execution_count": 7
        }
      ]
    },
    {
      "cell_type": "markdown",
      "source": [
        "Variáveis de interesse:\n",
        "- grupo\n",
        "- faixa_etaria\n",
        "- descricao_dose"
      ],
      "metadata": {
        "id": "u2VH8Y03yRLX"
      }
    },
    {
      "cell_type": "code",
      "source": [
        "# Explorar as possíveis categorias\n",
        "df.grupo.value_counts()"
      ],
      "metadata": {
        "colab": {
          "base_uri": "https://localhost:8080/"
        },
        "id": "4hvqIJWUqCT3",
        "outputId": "07967cce-85a0-4078-82a2-0bdb9284278c"
      },
      "execution_count": 8,
      "outputs": [
        {
          "output_type": "execute_result",
          "data": {
            "text/plain": [
              "PÚBLICO EM GERAL (18 a 59 anos)                                                    5057\n",
              "IDOSOS                                                                             1695\n",
              "TRABALHADORES DA SAÚDE                                                             1275\n",
              "PESSOAS COM COMORBIDADES                                                            685\n",
              "TRABALHADORES DA EDUCAÇÃO                                                           530\n",
              "TRABALHADORES INDUSTRIAIS E BANCÁRIOS                                               263\n",
              "OUTRAS PRIORIDADES                                                                  183\n",
              "GESTANTES E PUÉRPERAS                                                               105\n",
              "CAMINHONEIROS                                                                        95\n",
              "TRABALHADORES DA LIMPEZA URBANA                                                      25\n",
              "TRABALHADORES DE TRANSPORTE AÉREO                                                    17\n",
              "TRABALHADORES PORTUÁRIOS                                                             15\n",
              "TRABALHADORES DE TRANSPORTE COLETIVO RODOVIÁRIO                                      14\n",
              "TRABALHADORES DE TRANSPORTE METROVIÁRIO E FERROVIÁRIO                                14\n",
              "PESSOAS EM SITUAÇÃO DE RUA                                                            9\n",
              " PÚBLICO EM GERAL - MENOR DE 18 ANOS                                                  7\n",
              "PESSOAS COM VIAGEM PARA EXTERIOR (ESTUDO/PESQUISA/TRABALHO/TRATAMENTO DE SAÚDE)       5\n",
              "TRABALHADORES DA ASSISTÊNCIA SOCIAL                                                   3\n",
              "GESTANTES E PUÉRPERAS NÃO RESIDENTES EM RECIFE                                        2\n",
              "2021-02-08 00:00:00.0                                                                 1\n",
              "Name: grupo, dtype: int64"
            ]
          },
          "metadata": {},
          "execution_count": 8
        }
      ]
    },
    {
      "cell_type": "code",
      "source": [
        "# Criar filtro para linhas de info discordantes\n",
        "filtro = df['grupo'] != '2021-02-08 00:00:00.0'"
      ],
      "metadata": {
        "id": "g2b8Kt1PqHZa"
      },
      "execution_count": 9,
      "outputs": []
    },
    {
      "cell_type": "code",
      "source": [
        "df = df[filtro]"
      ],
      "metadata": {
        "id": "rzGLpa2G0wnP"
      },
      "execution_count": 10,
      "outputs": []
    },
    {
      "cell_type": "code",
      "source": [
        "df.grupo.value_counts()\n"
      ],
      "metadata": {
        "colab": {
          "base_uri": "https://localhost:8080/"
        },
        "id": "u8nJaOJc02lM",
        "outputId": "af4fcd58-3427-4c35-c894-bfd061988ea6"
      },
      "execution_count": 11,
      "outputs": [
        {
          "output_type": "execute_result",
          "data": {
            "text/plain": [
              "PÚBLICO EM GERAL (18 a 59 anos)                                                    5057\n",
              "IDOSOS                                                                             1695\n",
              "TRABALHADORES DA SAÚDE                                                             1275\n",
              "PESSOAS COM COMORBIDADES                                                            685\n",
              "TRABALHADORES DA EDUCAÇÃO                                                           530\n",
              "TRABALHADORES INDUSTRIAIS E BANCÁRIOS                                               263\n",
              "OUTRAS PRIORIDADES                                                                  183\n",
              "GESTANTES E PUÉRPERAS                                                               105\n",
              "CAMINHONEIROS                                                                        95\n",
              "TRABALHADORES DA LIMPEZA URBANA                                                      25\n",
              "TRABALHADORES DE TRANSPORTE AÉREO                                                    17\n",
              "TRABALHADORES PORTUÁRIOS                                                             15\n",
              "TRABALHADORES DE TRANSPORTE COLETIVO RODOVIÁRIO                                      14\n",
              "TRABALHADORES DE TRANSPORTE METROVIÁRIO E FERROVIÁRIO                                14\n",
              "PESSOAS EM SITUAÇÃO DE RUA                                                            9\n",
              " PÚBLICO EM GERAL - MENOR DE 18 ANOS                                                  7\n",
              "PESSOAS COM VIAGEM PARA EXTERIOR (ESTUDO/PESQUISA/TRABALHO/TRATAMENTO DE SAÚDE)       5\n",
              "TRABALHADORES DA ASSISTÊNCIA SOCIAL                                                   3\n",
              "GESTANTES E PUÉRPERAS NÃO RESIDENTES EM RECIFE                                        2\n",
              "Name: grupo, dtype: int64"
            ]
          },
          "metadata": {},
          "execution_count": 11
        }
      ]
    },
    {
      "cell_type": "code",
      "source": [
        "df.descricao_dose.value_counts()"
      ],
      "metadata": {
        "colab": {
          "base_uri": "https://localhost:8080/"
        },
        "id": "QHs4mj1YnSyL",
        "outputId": "64b74c0e-806c-40fc-cb58-7904d66fd4b1"
      },
      "execution_count": 12,
      "outputs": [
        {
          "output_type": "execute_result",
          "data": {
            "text/plain": [
              "1.0    4989\n",
              "2.0    4135\n",
              "3.0     874\n",
              "nan       1\n",
              "Name: descricao_dose, dtype: int64"
            ]
          },
          "metadata": {},
          "execution_count": 12
        }
      ]
    },
    {
      "cell_type": "code",
      "source": [
        "df.faixa_etaria.value_counts()"
      ],
      "metadata": {
        "colab": {
          "base_uri": "https://localhost:8080/"
        },
        "id": "mJi9idjlnh6A",
        "outputId": "d72fc160-b795-447c-e709-0f18beda3942"
      },
      "execution_count": 13,
      "outputs": [
        {
          "output_type": "execute_result",
          "data": {
            "text/plain": [
              "40 a 44 anos    4523\n",
              "35 a 39 anos    1979\n",
              "45 a 49 anos     569\n",
              "30 a 34 anos     412\n",
              "75 a 79 anos     301\n",
              "50 a 54 anos     291\n",
              "80 a 84 anos     283\n",
              "60 a 64 anos     260\n",
              "70 a 74 anos     255\n",
              "65 a 69 anos     252\n",
              "55 a 59 anos     250\n",
              "25 a 29 anos     204\n",
              "85 a 89 anos     187\n",
              "90 a 94 anos     138\n",
              "20 a 24 anos      44\n",
              "95 a 99 anos      31\n",
              "15 a 19 anos      13\n",
              "10 a 14 anos       3\n",
              "100 anos +         3\n",
              "Name: faixa_etaria, dtype: int64"
            ]
          },
          "metadata": {},
          "execution_count": 13
        }
      ]
    },
    {
      "cell_type": "code",
      "source": [
        "# Criar categoria de variável numérica com pd.cut()\n",
        "df.info()"
      ],
      "metadata": {
        "colab": {
          "base_uri": "https://localhost:8080/"
        },
        "id": "cA1_V3J31DOZ",
        "outputId": "70b9a0ba-d939-49d0-86af-6565461bf2d0"
      },
      "execution_count": 14,
      "outputs": [
        {
          "output_type": "stream",
          "name": "stdout",
          "text": [
            "<class 'pandas.core.frame.DataFrame'>\n",
            "Int64Index: 9999 entries, 0 to 9999\n",
            "Data columns (total 13 columns):\n",
            " #   Column             Non-Null Count  Dtype \n",
            "---  ------             --------------  ----- \n",
            " 0   faixa_etaria       9998 non-null   object\n",
            " 1   idade              9998 non-null   object\n",
            " 2   sexo               9999 non-null   object\n",
            " 3   raca_cor           9998 non-null   object\n",
            " 4   municipio          9988 non-null   object\n",
            " 5   grupo              9999 non-null   object\n",
            " 6   categoria          7349 non-null   object\n",
            " 7   lote               9999 non-null   object\n",
            " 8   vacina_fabricante  9998 non-null   object\n",
            " 9   descricao_dose     9999 non-null   object\n",
            " 10  cnes               9998 non-null   object\n",
            " 11  sistema_origem     9998 non-null   object\n",
            " 12  data_vacinacao     9998 non-null   object\n",
            "dtypes: object(13)\n",
            "memory usage: 1.1+ MB\n"
          ]
        }
      ]
    },
    {
      "cell_type": "code",
      "source": [
        "df['idade'] = df['idade'].astype(float)"
      ],
      "metadata": {
        "id": "yjL65gVOn5nl"
      },
      "execution_count": 15,
      "outputs": []
    },
    {
      "cell_type": "code",
      "source": [
        "df.info()"
      ],
      "metadata": {
        "colab": {
          "base_uri": "https://localhost:8080/"
        },
        "id": "3qAW5O0foDfV",
        "outputId": "933af592-0041-43b8-84b5-a4773bd4edc7"
      },
      "execution_count": 16,
      "outputs": [
        {
          "output_type": "stream",
          "name": "stdout",
          "text": [
            "<class 'pandas.core.frame.DataFrame'>\n",
            "Int64Index: 9999 entries, 0 to 9999\n",
            "Data columns (total 13 columns):\n",
            " #   Column             Non-Null Count  Dtype  \n",
            "---  ------             --------------  -----  \n",
            " 0   faixa_etaria       9998 non-null   object \n",
            " 1   idade              9998 non-null   float64\n",
            " 2   sexo               9999 non-null   object \n",
            " 3   raca_cor           9998 non-null   object \n",
            " 4   municipio          9988 non-null   object \n",
            " 5   grupo              9999 non-null   object \n",
            " 6   categoria          7349 non-null   object \n",
            " 7   lote               9999 non-null   object \n",
            " 8   vacina_fabricante  9998 non-null   object \n",
            " 9   descricao_dose     9999 non-null   object \n",
            " 10  cnes               9998 non-null   object \n",
            " 11  sistema_origem     9998 non-null   object \n",
            " 12  data_vacinacao     9998 non-null   object \n",
            "dtypes: float64(1), object(12)\n",
            "memory usage: 1.1+ MB\n"
          ]
        }
      ]
    },
    {
      "cell_type": "code",
      "source": [
        "df.idade.describe()"
      ],
      "metadata": {
        "colab": {
          "base_uri": "https://localhost:8080/"
        },
        "id": "oH1v-4S1oS_f",
        "outputId": "ac6ba9fd-ef85-415f-b72b-0fb7f0d95233"
      },
      "execution_count": 17,
      "outputs": [
        {
          "output_type": "execute_result",
          "data": {
            "text/plain": [
              "count    9998.000000\n",
              "mean       46.741748\n",
              "std        14.737004\n",
              "min        13.000000\n",
              "25%        39.000000\n",
              "50%        41.000000\n",
              "75%        46.000000\n",
              "max       101.000000\n",
              "Name: idade, dtype: float64"
            ]
          },
          "metadata": {},
          "execution_count": 17
        }
      ]
    },
    {
      "cell_type": "code",
      "source": [
        "df['cat_idade'] = pd.cut(df.idade, [13,18,35,60,101], labels=['adolescente','adulto_jovem','adulto','idoso'])"
      ],
      "metadata": {
        "id": "oQtKBLgnoGrd"
      },
      "execution_count": 18,
      "outputs": []
    },
    {
      "cell_type": "code",
      "source": [
        "df.sample(5)"
      ],
      "metadata": {
        "colab": {
          "base_uri": "https://localhost:8080/",
          "height": 617
        },
        "id": "6ZGJfqGoo_uQ",
        "outputId": "749519d7-7b02-44b4-93b8-28a602eebf73"
      },
      "execution_count": 19,
      "outputs": [
        {
          "output_type": "execute_result",
          "data": {
            "text/plain": [
              "      faixa_etaria  idade       sexo raca_cor municipio  \\\n",
              "6550  35 a 39 anos   39.0  MASCULINO    PARDA    RECIFE   \n",
              "8787  40 a 44 anos   41.0  MASCULINO    PRETA    RECIFE   \n",
              "2029  35 a 39 anos   37.0   FEMININO    PRETA    RECIFE   \n",
              "2070  40 a 44 anos   40.0  MASCULINO  AMARELA    RECIFE   \n",
              "7783  40 a 44 anos   43.0  MASCULINO    PARDA    RECIFE   \n",
              "\n",
              "                                  grupo categoria        lote  \\\n",
              "6550    PÚBLICO EM GERAL (18 a 59 anos)    OUTROS  218VCD254W   \n",
              "8787    PÚBLICO EM GERAL (18 a 59 anos)    OUTROS  215VCD174Z   \n",
              "2029              GESTANTES E PUÉRPERAS  GRÁVIDAS     31045BD   \n",
              "2070  TRABALHADORES DE TRANSPORTE AÉREO    OUTROS      FF8843   \n",
              "7783    PÚBLICO EM GERAL (18 a 59 anos)       NaN     210A21A   \n",
              "\n",
              "                                      vacina_fabricante descricao_dose  \\\n",
              "6550  2 - CHADOX1NCOV-19 - OXFORD/ASTRAZENECA (FIOCRUZ)            2.0   \n",
              "8787  2 - CHADOX1NCOV-19 - OXFORD/ASTRAZENECA (FIOCRUZ)            1.0   \n",
              "2029                             3 - COMIRNATY (PFIZER)            1.0   \n",
              "2070                             3 - COMIRNATY (PFIZER)            2.0   \n",
              "7783   4 - JANSSEN COVID-19 VACCINE (JOHNSON & JOHNSON)            1.0   \n",
              "\n",
              "                                                   cnes  sistema_origem  \\\n",
              "6550       DS 4: CNES: 0000639 - UBS JOAQUIM CAVALCANTE  Conecta Recife   \n",
              "8787      DS 3: CNES: 000612 - POLICLÍNICA ALBERT SABIN  Conecta Recife   \n",
              "2029  DS 2: CNES: 6897029 - POLICLÍNICA SALOMÃO KELNER   Conecta Recife   \n",
              "2070     DS 6: CNES: 0001392 - MIGUEL DE LIMA VALVERDE.  Conecta Recife   \n",
              "7783  DS 2: CNES: 6897029 - POLICLÍNICA SALOMÃO KELNER   Conecta Recife   \n",
              "\n",
              "             data_vacinacao cat_idade  \n",
              "6550  2021-10-01 00:00:00.0    adulto  \n",
              "8787  2021-07-04 00:00:00.0    adulto  \n",
              "2029  2021-09-17 00:00:00.0    adulto  \n",
              "2070  2021-09-18 00:00:00.0    adulto  \n",
              "7783  2021-06-27 00:00:00.0    adulto  "
            ],
            "text/html": [
              "\n",
              "  <div id=\"df-274d3f85-7a92-46d7-ad5f-21a95b91604f\">\n",
              "    <div class=\"colab-df-container\">\n",
              "      <div>\n",
              "<style scoped>\n",
              "    .dataframe tbody tr th:only-of-type {\n",
              "        vertical-align: middle;\n",
              "    }\n",
              "\n",
              "    .dataframe tbody tr th {\n",
              "        vertical-align: top;\n",
              "    }\n",
              "\n",
              "    .dataframe thead th {\n",
              "        text-align: right;\n",
              "    }\n",
              "</style>\n",
              "<table border=\"1\" class=\"dataframe\">\n",
              "  <thead>\n",
              "    <tr style=\"text-align: right;\">\n",
              "      <th></th>\n",
              "      <th>faixa_etaria</th>\n",
              "      <th>idade</th>\n",
              "      <th>sexo</th>\n",
              "      <th>raca_cor</th>\n",
              "      <th>municipio</th>\n",
              "      <th>grupo</th>\n",
              "      <th>categoria</th>\n",
              "      <th>lote</th>\n",
              "      <th>vacina_fabricante</th>\n",
              "      <th>descricao_dose</th>\n",
              "      <th>cnes</th>\n",
              "      <th>sistema_origem</th>\n",
              "      <th>data_vacinacao</th>\n",
              "      <th>cat_idade</th>\n",
              "    </tr>\n",
              "  </thead>\n",
              "  <tbody>\n",
              "    <tr>\n",
              "      <th>6550</th>\n",
              "      <td>35 a 39 anos</td>\n",
              "      <td>39.0</td>\n",
              "      <td>MASCULINO</td>\n",
              "      <td>PARDA</td>\n",
              "      <td>RECIFE</td>\n",
              "      <td>PÚBLICO EM GERAL (18 a 59 anos)</td>\n",
              "      <td>OUTROS</td>\n",
              "      <td>218VCD254W</td>\n",
              "      <td>2 - CHADOX1NCOV-19 - OXFORD/ASTRAZENECA (FIOCRUZ)</td>\n",
              "      <td>2.0</td>\n",
              "      <td>DS 4: CNES: 0000639 - UBS JOAQUIM CAVALCANTE</td>\n",
              "      <td>Conecta Recife</td>\n",
              "      <td>2021-10-01 00:00:00.0</td>\n",
              "      <td>adulto</td>\n",
              "    </tr>\n",
              "    <tr>\n",
              "      <th>8787</th>\n",
              "      <td>40 a 44 anos</td>\n",
              "      <td>41.0</td>\n",
              "      <td>MASCULINO</td>\n",
              "      <td>PRETA</td>\n",
              "      <td>RECIFE</td>\n",
              "      <td>PÚBLICO EM GERAL (18 a 59 anos)</td>\n",
              "      <td>OUTROS</td>\n",
              "      <td>215VCD174Z</td>\n",
              "      <td>2 - CHADOX1NCOV-19 - OXFORD/ASTRAZENECA (FIOCRUZ)</td>\n",
              "      <td>1.0</td>\n",
              "      <td>DS 3: CNES: 000612 - POLICLÍNICA ALBERT SABIN</td>\n",
              "      <td>Conecta Recife</td>\n",
              "      <td>2021-07-04 00:00:00.0</td>\n",
              "      <td>adulto</td>\n",
              "    </tr>\n",
              "    <tr>\n",
              "      <th>2029</th>\n",
              "      <td>35 a 39 anos</td>\n",
              "      <td>37.0</td>\n",
              "      <td>FEMININO</td>\n",
              "      <td>PRETA</td>\n",
              "      <td>RECIFE</td>\n",
              "      <td>GESTANTES E PUÉRPERAS</td>\n",
              "      <td>GRÁVIDAS</td>\n",
              "      <td>31045BD</td>\n",
              "      <td>3 - COMIRNATY (PFIZER)</td>\n",
              "      <td>1.0</td>\n",
              "      <td>DS 2: CNES: 6897029 - POLICLÍNICA SALOMÃO KELNER</td>\n",
              "      <td>Conecta Recife</td>\n",
              "      <td>2021-09-17 00:00:00.0</td>\n",
              "      <td>adulto</td>\n",
              "    </tr>\n",
              "    <tr>\n",
              "      <th>2070</th>\n",
              "      <td>40 a 44 anos</td>\n",
              "      <td>40.0</td>\n",
              "      <td>MASCULINO</td>\n",
              "      <td>AMARELA</td>\n",
              "      <td>RECIFE</td>\n",
              "      <td>TRABALHADORES DE TRANSPORTE AÉREO</td>\n",
              "      <td>OUTROS</td>\n",
              "      <td>FF8843</td>\n",
              "      <td>3 - COMIRNATY (PFIZER)</td>\n",
              "      <td>2.0</td>\n",
              "      <td>DS 6: CNES: 0001392 - MIGUEL DE LIMA VALVERDE.</td>\n",
              "      <td>Conecta Recife</td>\n",
              "      <td>2021-09-18 00:00:00.0</td>\n",
              "      <td>adulto</td>\n",
              "    </tr>\n",
              "    <tr>\n",
              "      <th>7783</th>\n",
              "      <td>40 a 44 anos</td>\n",
              "      <td>43.0</td>\n",
              "      <td>MASCULINO</td>\n",
              "      <td>PARDA</td>\n",
              "      <td>RECIFE</td>\n",
              "      <td>PÚBLICO EM GERAL (18 a 59 anos)</td>\n",
              "      <td>NaN</td>\n",
              "      <td>210A21A</td>\n",
              "      <td>4 - JANSSEN COVID-19 VACCINE (JOHNSON &amp; JOHNSON)</td>\n",
              "      <td>1.0</td>\n",
              "      <td>DS 2: CNES: 6897029 - POLICLÍNICA SALOMÃO KELNER</td>\n",
              "      <td>Conecta Recife</td>\n",
              "      <td>2021-06-27 00:00:00.0</td>\n",
              "      <td>adulto</td>\n",
              "    </tr>\n",
              "  </tbody>\n",
              "</table>\n",
              "</div>\n",
              "      <button class=\"colab-df-convert\" onclick=\"convertToInteractive('df-274d3f85-7a92-46d7-ad5f-21a95b91604f')\"\n",
              "              title=\"Convert this dataframe to an interactive table.\"\n",
              "              style=\"display:none;\">\n",
              "        \n",
              "  <svg xmlns=\"http://www.w3.org/2000/svg\" height=\"24px\"viewBox=\"0 0 24 24\"\n",
              "       width=\"24px\">\n",
              "    <path d=\"M0 0h24v24H0V0z\" fill=\"none\"/>\n",
              "    <path d=\"M18.56 5.44l.94 2.06.94-2.06 2.06-.94-2.06-.94-.94-2.06-.94 2.06-2.06.94zm-11 1L8.5 8.5l.94-2.06 2.06-.94-2.06-.94L8.5 2.5l-.94 2.06-2.06.94zm10 10l.94 2.06.94-2.06 2.06-.94-2.06-.94-.94-2.06-.94 2.06-2.06.94z\"/><path d=\"M17.41 7.96l-1.37-1.37c-.4-.4-.92-.59-1.43-.59-.52 0-1.04.2-1.43.59L10.3 9.45l-7.72 7.72c-.78.78-.78 2.05 0 2.83L4 21.41c.39.39.9.59 1.41.59.51 0 1.02-.2 1.41-.59l7.78-7.78 2.81-2.81c.8-.78.8-2.07 0-2.86zM5.41 20L4 18.59l7.72-7.72 1.47 1.35L5.41 20z\"/>\n",
              "  </svg>\n",
              "      </button>\n",
              "      \n",
              "  <style>\n",
              "    .colab-df-container {\n",
              "      display:flex;\n",
              "      flex-wrap:wrap;\n",
              "      gap: 12px;\n",
              "    }\n",
              "\n",
              "    .colab-df-convert {\n",
              "      background-color: #E8F0FE;\n",
              "      border: none;\n",
              "      border-radius: 50%;\n",
              "      cursor: pointer;\n",
              "      display: none;\n",
              "      fill: #1967D2;\n",
              "      height: 32px;\n",
              "      padding: 0 0 0 0;\n",
              "      width: 32px;\n",
              "    }\n",
              "\n",
              "    .colab-df-convert:hover {\n",
              "      background-color: #E2EBFA;\n",
              "      box-shadow: 0px 1px 2px rgba(60, 64, 67, 0.3), 0px 1px 3px 1px rgba(60, 64, 67, 0.15);\n",
              "      fill: #174EA6;\n",
              "    }\n",
              "\n",
              "    [theme=dark] .colab-df-convert {\n",
              "      background-color: #3B4455;\n",
              "      fill: #D2E3FC;\n",
              "    }\n",
              "\n",
              "    [theme=dark] .colab-df-convert:hover {\n",
              "      background-color: #434B5C;\n",
              "      box-shadow: 0px 1px 3px 1px rgba(0, 0, 0, 0.15);\n",
              "      filter: drop-shadow(0px 1px 2px rgba(0, 0, 0, 0.3));\n",
              "      fill: #FFFFFF;\n",
              "    }\n",
              "  </style>\n",
              "\n",
              "      <script>\n",
              "        const buttonEl =\n",
              "          document.querySelector('#df-274d3f85-7a92-46d7-ad5f-21a95b91604f button.colab-df-convert');\n",
              "        buttonEl.style.display =\n",
              "          google.colab.kernel.accessAllowed ? 'block' : 'none';\n",
              "\n",
              "        async function convertToInteractive(key) {\n",
              "          const element = document.querySelector('#df-274d3f85-7a92-46d7-ad5f-21a95b91604f');\n",
              "          const dataTable =\n",
              "            await google.colab.kernel.invokeFunction('convertToInteractive',\n",
              "                                                     [key], {});\n",
              "          if (!dataTable) return;\n",
              "\n",
              "          const docLinkHtml = 'Like what you see? Visit the ' +\n",
              "            '<a target=\"_blank\" href=https://colab.research.google.com/notebooks/data_table.ipynb>data table notebook</a>'\n",
              "            + ' to learn more about interactive tables.';\n",
              "          element.innerHTML = '';\n",
              "          dataTable['output_type'] = 'display_data';\n",
              "          await google.colab.output.renderOutput(dataTable, element);\n",
              "          const docLink = document.createElement('div');\n",
              "          docLink.innerHTML = docLinkHtml;\n",
              "          element.appendChild(docLink);\n",
              "        }\n",
              "      </script>\n",
              "    </div>\n",
              "  </div>\n",
              "  "
            ]
          },
          "metadata": {},
          "execution_count": 19
        }
      ]
    },
    {
      "cell_type": "code",
      "source": [
        "df.info()"
      ],
      "metadata": {
        "colab": {
          "base_uri": "https://localhost:8080/"
        },
        "id": "jgWYakFqpHUf",
        "outputId": "b13d08cb-5bd2-4157-afdc-b1b7576885a9"
      },
      "execution_count": 20,
      "outputs": [
        {
          "output_type": "stream",
          "name": "stdout",
          "text": [
            "<class 'pandas.core.frame.DataFrame'>\n",
            "Int64Index: 9999 entries, 0 to 9999\n",
            "Data columns (total 14 columns):\n",
            " #   Column             Non-Null Count  Dtype   \n",
            "---  ------             --------------  -----   \n",
            " 0   faixa_etaria       9998 non-null   object  \n",
            " 1   idade              9998 non-null   float64 \n",
            " 2   sexo               9999 non-null   object  \n",
            " 3   raca_cor           9998 non-null   object  \n",
            " 4   municipio          9988 non-null   object  \n",
            " 5   grupo              9999 non-null   object  \n",
            " 6   categoria          7349 non-null   object  \n",
            " 7   lote               9999 non-null   object  \n",
            " 8   vacina_fabricante  9998 non-null   object  \n",
            " 9   descricao_dose     9999 non-null   object  \n",
            " 10  cnes               9998 non-null   object  \n",
            " 11  sistema_origem     9998 non-null   object  \n",
            " 12  data_vacinacao     9998 non-null   object  \n",
            " 13  cat_idade          9997 non-null   category\n",
            "dtypes: category(1), float64(1), object(12)\n",
            "memory usage: 1.1+ MB\n"
          ]
        }
      ]
    },
    {
      "cell_type": "code",
      "source": [
        "df['cat_idade_str'] = df['cat_idade'].astype(str)"
      ],
      "metadata": {
        "id": "FweLn2InpNje"
      },
      "execution_count": 21,
      "outputs": []
    },
    {
      "cell_type": "code",
      "source": [
        "df.info()"
      ],
      "metadata": {
        "colab": {
          "base_uri": "https://localhost:8080/"
        },
        "id": "F2FzvC32pW1X",
        "outputId": "d2336b0b-906f-4b99-8d58-858eb651d6f9"
      },
      "execution_count": 22,
      "outputs": [
        {
          "output_type": "stream",
          "name": "stdout",
          "text": [
            "<class 'pandas.core.frame.DataFrame'>\n",
            "Int64Index: 9999 entries, 0 to 9999\n",
            "Data columns (total 15 columns):\n",
            " #   Column             Non-Null Count  Dtype   \n",
            "---  ------             --------------  -----   \n",
            " 0   faixa_etaria       9998 non-null   object  \n",
            " 1   idade              9998 non-null   float64 \n",
            " 2   sexo               9999 non-null   object  \n",
            " 3   raca_cor           9998 non-null   object  \n",
            " 4   municipio          9988 non-null   object  \n",
            " 5   grupo              9999 non-null   object  \n",
            " 6   categoria          7349 non-null   object  \n",
            " 7   lote               9999 non-null   object  \n",
            " 8   vacina_fabricante  9998 non-null   object  \n",
            " 9   descricao_dose     9999 non-null   object  \n",
            " 10  cnes               9998 non-null   object  \n",
            " 11  sistema_origem     9998 non-null   object  \n",
            " 12  data_vacinacao     9998 non-null   object  \n",
            " 13  cat_idade          9997 non-null   category\n",
            " 14  cat_idade_str      9999 non-null   object  \n",
            "dtypes: category(1), float64(1), object(13)\n",
            "memory usage: 1.2+ MB\n"
          ]
        }
      ]
    },
    {
      "cell_type": "markdown",
      "source": [
        "## 3 - Definir dataset categórico"
      ],
      "metadata": {
        "id": "VDh7W2YiqQ4I"
      }
    },
    {
      "cell_type": "code",
      "source": [
        "# Encontrar colunas\n",
        "df.columns"
      ],
      "metadata": {
        "colab": {
          "base_uri": "https://localhost:8080/"
        },
        "id": "GXu3K_04qKDP",
        "outputId": "d10c3ee0-e906-4b81-d0c5-7161b38e24c7"
      },
      "execution_count": 23,
      "outputs": [
        {
          "output_type": "execute_result",
          "data": {
            "text/plain": [
              "Index(['faixa_etaria', 'idade', 'sexo', 'raca_cor', 'municipio', 'grupo',\n",
              "       'categoria', 'lote', 'vacina_fabricante', 'descricao_dose', 'cnes',\n",
              "       'sistema_origem', 'data_vacinacao', 'cat_idade', 'cat_idade_str'],\n",
              "      dtype='object')"
            ]
          },
          "metadata": {},
          "execution_count": 23
        }
      ]
    },
    {
      "cell_type": "code",
      "source": [
        "df_cat = df[['grupo',\n",
        "       'descricao_dose',\n",
        "      'cat_idade_str']]"
      ],
      "metadata": {
        "id": "db093AxhpgMG"
      },
      "execution_count": 24,
      "outputs": []
    },
    {
      "cell_type": "markdown",
      "source": [
        "## 4 - Calculando o valor ótimo de K"
      ],
      "metadata": {
        "id": "DXBY1rVlqeJX"
      }
    },
    {
      "cell_type": "code",
      "source": [
        "# importanto as Libs \n",
        "import numpy as np\n",
        "!pip install kmodes\n",
        "from kmodes.kmodes import KModes\n",
        "import matplotlib.pyplot as plt\n",
        "%matplotlib inline"
      ],
      "metadata": {
        "colab": {
          "base_uri": "https://localhost:8080/"
        },
        "id": "IKhPe22bqdox",
        "outputId": "f7ae6b1e-8197-4bc9-c5a8-2347c24e7cd6"
      },
      "execution_count": 25,
      "outputs": [
        {
          "output_type": "stream",
          "name": "stdout",
          "text": [
            "Looking in indexes: https://pypi.org/simple, https://us-python.pkg.dev/colab-wheels/public/simple/\n",
            "Collecting kmodes\n",
            "  Downloading kmodes-0.12.2-py2.py3-none-any.whl (20 kB)\n",
            "Requirement already satisfied: numpy>=1.10.4 in /usr/local/lib/python3.8/dist-packages (from kmodes) (1.21.6)\n",
            "Requirement already satisfied: scipy>=0.13.3 in /usr/local/lib/python3.8/dist-packages (from kmodes) (1.7.3)\n",
            "Requirement already satisfied: joblib>=0.11 in /usr/local/lib/python3.8/dist-packages (from kmodes) (1.2.0)\n",
            "Requirement already satisfied: scikit-learn>=0.22.0 in /usr/local/lib/python3.8/dist-packages (from kmodes) (1.0.2)\n",
            "Requirement already satisfied: threadpoolctl>=2.0.0 in /usr/local/lib/python3.8/dist-packages (from scikit-learn>=0.22.0->kmodes) (3.1.0)\n",
            "Installing collected packages: kmodes\n",
            "Successfully installed kmodes-0.12.2\n"
          ]
        }
      ]
    },
    {
      "cell_type": "code",
      "source": [
        "# optimal K\n",
        "data = df_cat\n",
        "data = data.fillna('')\n",
        "cost = []\n",
        "K = range(1,10)\n",
        "for num_clusters in list(K):\n",
        "    kmode = KModes(n_clusters=num_clusters, init = 'random', n_init = 5, verbose=1) # parâmetros kmodes\n",
        "    # n_clusters = range K\n",
        "    # init = método de início de escolha de centróide\n",
        "    # n_init = quantidade de vezes que o algotirmo roda\n",
        "    # verbose = resposta pós inicialização\n",
        "    kmode.fit_predict(data)\n",
        "    # fit_predict = testar e ajustar o modelo\n",
        "    cost.append(kmode.cost_)\n",
        "    # cost_ = dissimilaridades"
      ],
      "metadata": {
        "colab": {
          "base_uri": "https://localhost:8080/"
        },
        "id": "Y0d1NXOXqX2R",
        "outputId": "40f42236-60dd-4f38-b637-484c3ff900dd"
      },
      "execution_count": 27,
      "outputs": [
        {
          "output_type": "stream",
          "name": "stdout",
          "text": [
            "Init: initializing centroids\n",
            "Init: initializing clusters\n",
            "Starting iterations...\n",
            "Run 1, iteration: 1/100, moves: 0, cost: 12428.0\n",
            "Init: initializing centroids\n",
            "Init: initializing clusters\n",
            "Starting iterations...\n",
            "Run 2, iteration: 1/100, moves: 0, cost: 12428.0\n",
            "Init: initializing centroids\n",
            "Init: initializing clusters\n",
            "Starting iterations...\n",
            "Run 3, iteration: 1/100, moves: 0, cost: 12428.0\n",
            "Init: initializing centroids\n",
            "Init: initializing clusters\n",
            "Starting iterations...\n",
            "Run 4, iteration: 1/100, moves: 0, cost: 12428.0\n",
            "Init: initializing centroids\n",
            "Init: initializing clusters\n",
            "Starting iterations...\n",
            "Run 5, iteration: 1/100, moves: 0, cost: 12428.0\n",
            "Best run was number 1\n",
            "Init: initializing centroids\n",
            "Init: initializing clusters\n",
            "Starting iterations...\n",
            "Run 1, iteration: 1/100, moves: 399, cost: 8293.0\n",
            "Init: initializing centroids\n",
            "Init: initializing clusters\n",
            "Starting iterations...\n",
            "Run 2, iteration: 1/100, moves: 0, cost: 10733.0\n",
            "Init: initializing centroids\n",
            "Init: initializing clusters\n",
            "Starting iterations...\n",
            "Run 3, iteration: 1/100, moves: 1815, cost: 8293.0\n",
            "Init: initializing centroids\n",
            "Init: initializing clusters\n",
            "Starting iterations...\n",
            "Run 4, iteration: 1/100, moves: 40, cost: 9121.0\n",
            "Init: initializing centroids\n",
            "Init: initializing clusters\n",
            "Starting iterations...\n",
            "Run 5, iteration: 1/100, moves: 1699, cost: 8973.0\n",
            "Best run was number 1\n",
            "Init: initializing centroids\n",
            "Init: initializing clusters\n",
            "Starting iterations...\n",
            "Run 1, iteration: 1/100, moves: 2032, cost: 8622.0\n",
            "Run 1, iteration: 2/100, moves: 84, cost: 8622.0\n",
            "Init: initializing centroids\n",
            "Init: initializing clusters\n",
            "Starting iterations...\n",
            "Run 2, iteration: 1/100, moves: 0, cost: 8293.0\n",
            "Init: initializing centroids\n",
            "Init: initializing clusters\n",
            "Starting iterations...\n",
            "Run 3, iteration: 1/100, moves: 558, cost: 8586.0\n",
            "Run 3, iteration: 2/100, moves: 1456, cost: 6964.0\n",
            "Run 3, iteration: 3/100, moves: 734, cost: 6964.0\n",
            "Init: initializing centroids\n",
            "Init: initializing clusters\n",
            "Starting iterations...\n",
            "Run 4, iteration: 1/100, moves: 668, cost: 5627.0\n",
            "Init: initializing centroids\n",
            "Init: initializing clusters\n",
            "Starting iterations...\n",
            "Run 5, iteration: 1/100, moves: 511, cost: 8315.0\n",
            "Best run was number 4\n",
            "Init: initializing centroids\n",
            "Init: initializing clusters\n",
            "Starting iterations...\n",
            "Run 1, iteration: 1/100, moves: 1734, cost: 5288.0\n",
            "Run 1, iteration: 2/100, moves: 1, cost: 5288.0\n",
            "Init: initializing centroids\n",
            "Init: initializing clusters\n",
            "Starting iterations...\n",
            "Run 2, iteration: 1/100, moves: 1462, cost: 5250.0\n",
            "Run 2, iteration: 2/100, moves: 0, cost: 5250.0\n",
            "Init: initializing centroids\n",
            "Init: initializing clusters\n",
            "Starting iterations...\n",
            "Run 3, iteration: 1/100, moves: 0, cost: 4856.0\n",
            "Init: initializing centroids\n",
            "Init: initializing clusters\n",
            "Starting iterations...\n",
            "Run 4, iteration: 1/100, moves: 0, cost: 8317.0\n",
            "Init: initializing centroids\n",
            "Init: initializing clusters\n",
            "Starting iterations...\n",
            "Run 5, iteration: 1/100, moves: 346, cost: 6330.0\n",
            "Best run was number 3\n",
            "Init: initializing centroids\n",
            "Init: initializing clusters\n",
            "Starting iterations...\n",
            "Run 1, iteration: 1/100, moves: 42, cost: 6641.0\n",
            "Init: initializing centroids\n",
            "Init: initializing clusters\n",
            "Starting iterations...\n",
            "Run 2, iteration: 1/100, moves: 98, cost: 7311.0\n",
            "Init: initializing centroids\n",
            "Init: initializing clusters\n",
            "Starting iterations...\n",
            "Run 3, iteration: 1/100, moves: 3706, cost: 4842.0\n",
            "Init: initializing centroids\n",
            "Init: initializing clusters\n",
            "Starting iterations...\n",
            "Run 4, iteration: 1/100, moves: 2646, cost: 4856.0\n",
            "Run 4, iteration: 2/100, moves: 604, cost: 4856.0\n",
            "Init: initializing centroids\n",
            "Init: initializing clusters\n",
            "Starting iterations...\n",
            "Run 5, iteration: 1/100, moves: 1796, cost: 4471.0\n",
            "Best run was number 5\n",
            "Init: initializing centroids\n",
            "Init: initializing clusters\n",
            "Starting iterations...\n",
            "Run 1, iteration: 1/100, moves: 2721, cost: 4815.0\n",
            "Run 1, iteration: 2/100, moves: 428, cost: 4815.0\n",
            "Init: initializing centroids\n",
            "Init: initializing clusters\n",
            "Starting iterations...\n",
            "Run 2, iteration: 1/100, moves: 3290, cost: 5686.0\n",
            "Run 2, iteration: 2/100, moves: 546, cost: 5686.0\n",
            "Init: initializing centroids\n",
            "Init: initializing clusters\n",
            "Starting iterations...\n",
            "Run 3, iteration: 1/100, moves: 1034, cost: 6792.0\n",
            "Init: initializing centroids\n",
            "Init: initializing clusters\n",
            "Starting iterations...\n",
            "Run 4, iteration: 1/100, moves: 3110, cost: 4315.0\n",
            "Run 4, iteration: 2/100, moves: 145, cost: 4315.0\n",
            "Init: initializing centroids\n",
            "Init: initializing clusters\n",
            "Starting iterations...\n",
            "Run 5, iteration: 1/100, moves: 1635, cost: 4519.0\n",
            "Run 5, iteration: 2/100, moves: 184, cost: 4519.0\n",
            "Best run was number 4\n",
            "Init: initializing centroids\n",
            "Init: initializing clusters\n",
            "Starting iterations...\n",
            "Run 1, iteration: 1/100, moves: 1139, cost: 6556.0\n",
            "Init: initializing centroids\n",
            "Init: initializing clusters\n",
            "Starting iterations...\n",
            "Run 2, iteration: 1/100, moves: 1180, cost: 5304.0\n",
            "Run 2, iteration: 2/100, moves: 20, cost: 5304.0\n",
            "Init: initializing centroids\n",
            "Init: initializing clusters\n",
            "Starting iterations...\n",
            "Run 3, iteration: 1/100, moves: 0, cost: 4460.0\n",
            "Init: initializing centroids\n",
            "Init: initializing clusters\n",
            "Starting iterations...\n",
            "Run 4, iteration: 1/100, moves: 1664, cost: 3559.0\n",
            "Run 4, iteration: 2/100, moves: 29, cost: 3559.0\n",
            "Init: initializing centroids\n",
            "Init: initializing clusters\n",
            "Starting iterations...\n",
            "Run 5, iteration: 1/100, moves: 717, cost: 3948.0\n",
            "Run 5, iteration: 2/100, moves: 609, cost: 3948.0\n",
            "Best run was number 4\n",
            "Init: initializing centroids\n",
            "Init: initializing clusters\n",
            "Starting iterations...\n",
            "Run 1, iteration: 1/100, moves: 1974, cost: 4357.0\n",
            "Run 1, iteration: 2/100, moves: 571, cost: 4357.0\n",
            "Init: initializing centroids\n",
            "Init: initializing clusters\n",
            "Starting iterations...\n",
            "Run 2, iteration: 1/100, moves: 4646, cost: 4117.0\n",
            "Init: initializing centroids\n",
            "Init: initializing clusters\n",
            "Starting iterations...\n",
            "Run 3, iteration: 1/100, moves: 57, cost: 3286.0\n",
            "Init: initializing centroids\n",
            "Init: initializing clusters\n",
            "Starting iterations...\n",
            "Run 4, iteration: 1/100, moves: 1587, cost: 3429.0\n",
            "Run 4, iteration: 2/100, moves: 244, cost: 3429.0\n",
            "Init: initializing centroids\n",
            "Init: initializing clusters\n",
            "Starting iterations...\n",
            "Run 5, iteration: 1/100, moves: 5151, cost: 4355.0\n",
            "Run 5, iteration: 2/100, moves: 91, cost: 4067.0\n",
            "Run 5, iteration: 3/100, moves: 201, cost: 4067.0\n",
            "Best run was number 3\n",
            "Init: initializing centroids\n",
            "Init: initializing clusters\n",
            "Starting iterations...\n",
            "Run 1, iteration: 1/100, moves: 3314, cost: 4006.0\n",
            "Run 1, iteration: 2/100, moves: 36, cost: 4006.0\n",
            "Init: initializing centroids\n",
            "Init: initializing clusters\n",
            "Starting iterations...\n",
            "Run 2, iteration: 1/100, moves: 4125, cost: 3409.0\n",
            "Run 2, iteration: 2/100, moves: 494, cost: 3409.0\n",
            "Init: initializing centroids\n",
            "Init: initializing clusters\n",
            "Starting iterations...\n",
            "Run 3, iteration: 1/100, moves: 344, cost: 4191.0\n",
            "Init: initializing centroids\n",
            "Init: initializing clusters\n",
            "Starting iterations...\n",
            "Run 4, iteration: 1/100, moves: 3942, cost: 3996.0\n",
            "Run 4, iteration: 2/100, moves: 1144, cost: 3639.0\n",
            "Run 4, iteration: 3/100, moves: 87, cost: 3639.0\n",
            "Init: initializing centroids\n",
            "Init: initializing clusters\n",
            "Starting iterations...\n",
            "Run 5, iteration: 1/100, moves: 1826, cost: 3416.0\n",
            "Run 5, iteration: 2/100, moves: 0, cost: 3416.0\n",
            "Best run was number 2\n"
          ]
        }
      ]
    },
    {
      "cell_type": "code",
      "source": [
        "# Visualizando o optimal K\n",
        "plt.plot(K, cost, 'bx-')\n",
        "plt.xlabel('No. of clusters')\n",
        "plt.ylabel('Cost')\n",
        "plt.title('Elbow Method For Optimal k')\n",
        "plt.show()"
      ],
      "metadata": {
        "colab": {
          "base_uri": "https://localhost:8080/",
          "height": 295
        },
        "id": "NOxt4Vw3qmsx",
        "outputId": "0c6019b9-19ba-421d-eddb-7856972d639f"
      },
      "execution_count": 28,
      "outputs": [
        {
          "output_type": "display_data",
          "data": {
            "text/plain": [
              "<Figure size 432x288 with 1 Axes>"
            ],
            "image/png": "[encoded data removed]"
          },
          "metadata": {
            "needs_background": "light"
          }
        }
      ]
    },
    {
      "cell_type": "markdown",
      "source": [
        "## 5 - Clustering"
      ],
      "metadata": {
        "id": "_9-s6IlFqx4S"
      }
    },
    {
      "cell_type": "code",
      "source": [
        "# Gerando array de clusters para k = 4\n",
        "kmode = KModes(n_clusters= 4, init = 'random', n_init = 5, verbose=1) # parâmetros kmodes\n",
        "clusters = kmode.fit_predict(data)\n",
        "clusters"
      ],
      "metadata": {
        "colab": {
          "base_uri": "https://localhost:8080/"
        },
        "id": "vgvy3hG-qvsA",
        "outputId": "557fa554-4695-4f9d-8ef4-1b3942d73f66"
      },
      "execution_count": 29,
      "outputs": [
        {
          "output_type": "stream",
          "name": "stdout",
          "text": [
            "Init: initializing centroids\n",
            "Init: initializing clusters\n",
            "Starting iterations...\n",
            "Run 1, iteration: 1/100, moves: 1044, cost: 6827.0\n",
            "Init: initializing centroids\n",
            "Init: initializing clusters\n",
            "Starting iterations...\n",
            "Run 2, iteration: 1/100, moves: 399, cost: 7505.0\n",
            "Init: initializing centroids\n",
            "Init: initializing clusters\n",
            "Starting iterations...\n",
            "Run 3, iteration: 1/100, moves: 371, cost: 7281.0\n",
            "Init: initializing centroids\n",
            "Init: initializing clusters\n",
            "Starting iterations...\n",
            "Run 4, iteration: 1/100, moves: 1039, cost: 4986.0\n",
            "Run 4, iteration: 2/100, moves: 3, cost: 4986.0\n",
            "Init: initializing centroids\n",
            "Init: initializing clusters\n",
            "Starting iterations...\n",
            "Run 5, iteration: 1/100, moves: 487, cost: 4967.0\n",
            "Best run was number 5\n"
          ]
        },
        {
          "output_type": "execute_result",
          "data": {
            "text/plain": [
              "array([2, 3, 2, ..., 3, 2, 3], dtype=uint16)"
            ]
          },
          "metadata": {},
          "execution_count": 29
        }
      ]
    },
    {
      "cell_type": "markdown",
      "source": [
        "## 6 - Inserir array no dataset"
      ],
      "metadata": {
        "id": "bdB63itxrAkM"
      }
    },
    {
      "cell_type": "code",
      "source": [
        "# Insert array no dataset\n",
        "df_cat.insert(0, 'cluster', clusters)\n",
        "df_cat.sample(5)"
      ],
      "metadata": {
        "colab": {
          "base_uri": "https://localhost:8080/",
          "height": 206
        },
        "id": "z9zcpjIHrAEj",
        "outputId": "8595aaad-9dd0-4459-bbb5-dba6753150d5"
      },
      "execution_count": 31,
      "outputs": [
        {
          "output_type": "execute_result",
          "data": {
            "text/plain": [
              "      cluster                            grupo descricao_dose cat_idade_str\n",
              "48          1                           IDOSOS            1.0         idoso\n",
              "5878        3  PÚBLICO EM GERAL (18 a 59 anos)            1.0        adulto\n",
              "4704        1                           IDOSOS            3.0         idoso\n",
              "6349        1                           IDOSOS            1.0         idoso\n",
              "2474        3  PÚBLICO EM GERAL (18 a 59 anos)            1.0        adulto"
            ],
            "text/html": [
              "\n",
              "  <div id=\"df-b4a5349e-820f-4f4d-af2f-2a969afa23fb\">\n",
              "    <div class=\"colab-df-container\">\n",
              "      <div>\n",
              "<style scoped>\n",
              "    .dataframe tbody tr th:only-of-type {\n",
              "        vertical-align: middle;\n",
              "    }\n",
              "\n",
              "    .dataframe tbody tr th {\n",
              "        vertical-align: top;\n",
              "    }\n",
              "\n",
              "    .dataframe thead th {\n",
              "        text-align: right;\n",
              "    }\n",
              "</style>\n",
              "<table border=\"1\" class=\"dataframe\">\n",
              "  <thead>\n",
              "    <tr style=\"text-align: right;\">\n",
              "      <th></th>\n",
              "      <th>cluster</th>\n",
              "      <th>grupo</th>\n",
              "      <th>descricao_dose</th>\n",
              "      <th>cat_idade_str</th>\n",
              "    </tr>\n",
              "  </thead>\n",
              "  <tbody>\n",
              "    <tr>\n",
              "      <th>48</th>\n",
              "      <td>1</td>\n",
              "      <td>IDOSOS</td>\n",
              "      <td>1.0</td>\n",
              "      <td>idoso</td>\n",
              "    </tr>\n",
              "    <tr>\n",
              "      <th>5878</th>\n",
              "      <td>3</td>\n",
              "      <td>PÚBLICO EM GERAL (18 a 59 anos)</td>\n",
              "      <td>1.0</td>\n",
              "      <td>adulto</td>\n",
              "    </tr>\n",
              "    <tr>\n",
              "      <th>4704</th>\n",
              "      <td>1</td>\n",
              "      <td>IDOSOS</td>\n",
              "      <td>3.0</td>\n",
              "      <td>idoso</td>\n",
              "    </tr>\n",
              "    <tr>\n",
              "      <th>6349</th>\n",
              "      <td>1</td>\n",
              "      <td>IDOSOS</td>\n",
              "      <td>1.0</td>\n",
              "      <td>idoso</td>\n",
              "    </tr>\n",
              "    <tr>\n",
              "      <th>2474</th>\n",
              "      <td>3</td>\n",
              "      <td>PÚBLICO EM GERAL (18 a 59 anos)</td>\n",
              "      <td>1.0</td>\n",
              "      <td>adulto</td>\n",
              "    </tr>\n",
              "  </tbody>\n",
              "</table>\n",
              "</div>\n",
              "      <button class=\"colab-df-convert\" onclick=\"convertToInteractive('df-b4a5349e-820f-4f4d-af2f-2a969afa23fb')\"\n",
              "              title=\"Convert this dataframe to an interactive table.\"\n",
              "              style=\"display:none;\">\n",
              "        \n",
              "  <svg xmlns=\"http://www.w3.org/2000/svg\" height=\"24px\"viewBox=\"0 0 24 24\"\n",
              "       width=\"24px\">\n",
              "    <path d=\"M0 0h24v24H0V0z\" fill=\"none\"/>\n",
              "    <path d=\"M18.56 5.44l.94 2.06.94-2.06 2.06-.94-2.06-.94-.94-2.06-.94 2.06-2.06.94zm-11 1L8.5 8.5l.94-2.06 2.06-.94-2.06-.94L8.5 2.5l-.94 2.06-2.06.94zm10 10l.94 2.06.94-2.06 2.06-.94-2.06-.94-.94-2.06-.94 2.06-2.06.94z\"/><path d=\"M17.41 7.96l-1.37-1.37c-.4-.4-.92-.59-1.43-.59-.52 0-1.04.2-1.43.59L10.3 9.45l-7.72 7.72c-.78.78-.78 2.05 0 2.83L4 21.41c.39.39.9.59 1.41.59.51 0 1.02-.2 1.41-.59l7.78-7.78 2.81-2.81c.8-.78.8-2.07 0-2.86zM5.41 20L4 18.59l7.72-7.72 1.47 1.35L5.41 20z\"/>\n",
              "  </svg>\n",
              "      </button>\n",
              "      \n",
              "  <style>\n",
              "    .colab-df-container {\n",
              "      display:flex;\n",
              "      flex-wrap:wrap;\n",
              "      gap: 12px;\n",
              "    }\n",
              "\n",
              "    .colab-df-convert {\n",
              "      background-color: #E8F0FE;\n",
              "      border: none;\n",
              "      border-radius: 50%;\n",
              "      cursor: pointer;\n",
              "      display: none;\n",
              "      fill: #1967D2;\n",
              "      height: 32px;\n",
              "      padding: 0 0 0 0;\n",
              "      width: 32px;\n",
              "    }\n",
              "\n",
              "    .colab-df-convert:hover {\n",
              "      background-color: #E2EBFA;\n",
              "      box-shadow: 0px 1px 2px rgba(60, 64, 67, 0.3), 0px 1px 3px 1px rgba(60, 64, 67, 0.15);\n",
              "      fill: #174EA6;\n",
              "    }\n",
              "\n",
              "    [theme=dark] .colab-df-convert {\n",
              "      background-color: #3B4455;\n",
              "      fill: #D2E3FC;\n",
              "    }\n",
              "\n",
              "    [theme=dark] .colab-df-convert:hover {\n",
              "      background-color: #434B5C;\n",
              "      box-shadow: 0px 1px 3px 1px rgba(0, 0, 0, 0.15);\n",
              "      filter: drop-shadow(0px 1px 2px rgba(0, 0, 0, 0.3));\n",
              "      fill: #FFFFFF;\n",
              "    }\n",
              "  </style>\n",
              "\n",
              "      <script>\n",
              "        const buttonEl =\n",
              "          document.querySelector('#df-b4a5349e-820f-4f4d-af2f-2a969afa23fb button.colab-df-convert');\n",
              "        buttonEl.style.display =\n",
              "          google.colab.kernel.accessAllowed ? 'block' : 'none';\n",
              "\n",
              "        async function convertToInteractive(key) {\n",
              "          const element = document.querySelector('#df-b4a5349e-820f-4f4d-af2f-2a969afa23fb');\n",
              "          const dataTable =\n",
              "            await google.colab.kernel.invokeFunction('convertToInteractive',\n",
              "                                                     [key], {});\n",
              "          if (!dataTable) return;\n",
              "\n",
              "          const docLinkHtml = 'Like what you see? Visit the ' +\n",
              "            '<a target=\"_blank\" href=https://colab.research.google.com/notebooks/data_table.ipynb>data table notebook</a>'\n",
              "            + ' to learn more about interactive tables.';\n",
              "          element.innerHTML = '';\n",
              "          dataTable['output_type'] = 'display_data';\n",
              "          await google.colab.output.renderOutput(dataTable, element);\n",
              "          const docLink = document.createElement('div');\n",
              "          docLink.innerHTML = docLinkHtml;\n",
              "          element.appendChild(docLink);\n",
              "        }\n",
              "      </script>\n",
              "    </div>\n",
              "  </div>\n",
              "  "
            ]
          },
          "metadata": {},
          "execution_count": 31
        }
      ]
    },
    {
      "cell_type": "markdown",
      "source": [
        "## 7 - Explorar os clusters"
      ],
      "metadata": {
        "id": "VuN7oai6rK7M"
      }
    },
    {
      "cell_type": "code",
      "source": [
        "# Contar valores normalizados\n",
        "df_cat.info()"
      ],
      "metadata": {
        "colab": {
          "base_uri": "https://localhost:8080/"
        },
        "id": "DVEH4QuVq4cq",
        "outputId": "8c28da0a-d5d3-4f7d-e2a6-5353c4d2bdd3"
      },
      "execution_count": 32,
      "outputs": [
        {
          "output_type": "stream",
          "name": "stdout",
          "text": [
            "<class 'pandas.core.frame.DataFrame'>\n",
            "Int64Index: 9999 entries, 0 to 9999\n",
            "Data columns (total 4 columns):\n",
            " #   Column          Non-Null Count  Dtype \n",
            "---  ------          --------------  ----- \n",
            " 0   cluster         9999 non-null   uint16\n",
            " 1   grupo           9999 non-null   object\n",
            " 2   descricao_dose  9999 non-null   object\n",
            " 3   cat_idade_str   9999 non-null   object\n",
            "dtypes: object(3), uint16(1)\n",
            "memory usage: 332.0+ KB\n"
          ]
        }
      ]
    },
    {
      "cell_type": "code",
      "source": [
        "df_cat.cluster.value_counts(normalize=True)*100"
      ],
      "metadata": {
        "colab": {
          "base_uri": "https://localhost:8080/"
        },
        "id": "5JEHj9xSnmSa",
        "outputId": "a2be42fd-fe09-4886-a429-ccedcbabd3ec"
      },
      "execution_count": 35,
      "outputs": [
        {
          "output_type": "execute_result",
          "data": {
            "text/plain": [
              "3    37.063706\n",
              "2    30.103010\n",
              "1    17.801780\n",
              "0    15.031503\n",
              "Name: cluster, dtype: float64"
            ]
          },
          "metadata": {},
          "execution_count": 35
        }
      ]
    },
    {
      "cell_type": "code",
      "source": [
        "# Filtrar clusters\n",
        "cluster3 = df_cat.loc[df_cat.cluster == 3]"
      ],
      "metadata": {
        "id": "5p_VLpR9rTge"
      },
      "execution_count": 38,
      "outputs": []
    },
    {
      "cell_type": "code",
      "source": [
        "# Describe all\n",
        "cluster3.describe(include='all')"
      ],
      "metadata": {
        "colab": {
          "base_uri": "https://localhost:8080/",
          "height": 394
        },
        "id": "qh_tAWI4rY6n",
        "outputId": "671c83e4-ac59-4350-917a-e46851991726"
      },
      "execution_count": 39,
      "outputs": [
        {
          "output_type": "execute_result",
          "data": {
            "text/plain": [
              "        cluster                            grupo descricao_dose cat_idade_str\n",
              "count    3706.0                             3706           3706          3706\n",
              "unique      NaN                               16              1             2\n",
              "top         NaN  PÚBLICO EM GERAL (18 a 59 anos)            1.0        adulto\n",
              "freq        NaN                             2811           3706          3445\n",
              "mean        3.0                              NaN            NaN           NaN\n",
              "std         0.0                              NaN            NaN           NaN\n",
              "min         3.0                              NaN            NaN           NaN\n",
              "25%         3.0                              NaN            NaN           NaN\n",
              "50%         3.0                              NaN            NaN           NaN\n",
              "75%         3.0                              NaN            NaN           NaN\n",
              "max         3.0                              NaN            NaN           NaN"
            ],
            "text/html": [
              "\n",
              "  <div id=\"df-371f1d8e-f911-4227-a973-d78bbd8aebcc\">\n",
              "    <div class=\"colab-df-container\">\n",
              "      <div>\n",
              "<style scoped>\n",
              "    .dataframe tbody tr th:only-of-type {\n",
              "        vertical-align: middle;\n",
              "    }\n",
              "\n",
              "    .dataframe tbody tr th {\n",
              "        vertical-align: top;\n",
              "    }\n",
              "\n",
              "    .dataframe thead th {\n",
              "        text-align: right;\n",
              "    }\n",
              "</style>\n",
              "<table border=\"1\" class=\"dataframe\">\n",
              "  <thead>\n",
              "    <tr style=\"text-align: right;\">\n",
              "      <th></th>\n",
              "      <th>cluster</th>\n",
              "      <th>grupo</th>\n",
              "      <th>descricao_dose</th>\n",
              "      <th>cat_idade_str</th>\n",
              "    </tr>\n",
              "  </thead>\n",
              "  <tbody>\n",
              "    <tr>\n",
              "      <th>count</th>\n",
              "      <td>3706.0</td>\n",
              "      <td>3706</td>\n",
              "      <td>3706</td>\n",
              "      <td>3706</td>\n",
              "    </tr>\n",
              "    <tr>\n",
              "      <th>unique</th>\n",
              "      <td>NaN</td>\n",
              "      <td>16</td>\n",
              "      <td>1</td>\n",
              "      <td>2</td>\n",
              "    </tr>\n",
              "    <tr>\n",
              "      <th>top</th>\n",
              "      <td>NaN</td>\n",
              "      <td>PÚBLICO EM GERAL (18 a 59 anos)</td>\n",
              "      <td>1.0</td>\n",
              "      <td>adulto</td>\n",
              "    </tr>\n",
              "    <tr>\n",
              "      <th>freq</th>\n",
              "      <td>NaN</td>\n",
              "      <td>2811</td>\n",
              "      <td>3706</td>\n",
              "      <td>3445</td>\n",
              "    </tr>\n",
              "    <tr>\n",
              "      <th>mean</th>\n",
              "      <td>3.0</td>\n",
              "      <td>NaN</td>\n",
              "      <td>NaN</td>\n",
              "      <td>NaN</td>\n",
              "    </tr>\n",
              "    <tr>\n",
              "      <th>std</th>\n",
              "      <td>0.0</td>\n",
              "      <td>NaN</td>\n",
              "      <td>NaN</td>\n",
              "      <td>NaN</td>\n",
              "    </tr>\n",
              "    <tr>\n",
              "      <th>min</th>\n",
              "      <td>3.0</td>\n",
              "      <td>NaN</td>\n",
              "      <td>NaN</td>\n",
              "      <td>NaN</td>\n",
              "    </tr>\n",
              "    <tr>\n",
              "      <th>25%</th>\n",
              "      <td>3.0</td>\n",
              "      <td>NaN</td>\n",
              "      <td>NaN</td>\n",
              "      <td>NaN</td>\n",
              "    </tr>\n",
              "    <tr>\n",
              "      <th>50%</th>\n",
              "      <td>3.0</td>\n",
              "      <td>NaN</td>\n",
              "      <td>NaN</td>\n",
              "      <td>NaN</td>\n",
              "    </tr>\n",
              "    <tr>\n",
              "      <th>75%</th>\n",
              "      <td>3.0</td>\n",
              "      <td>NaN</td>\n",
              "      <td>NaN</td>\n",
              "      <td>NaN</td>\n",
              "    </tr>\n",
              "    <tr>\n",
              "      <th>max</th>\n",
              "      <td>3.0</td>\n",
              "      <td>NaN</td>\n",
              "      <td>NaN</td>\n",
              "      <td>NaN</td>\n",
              "    </tr>\n",
              "  </tbody>\n",
              "</table>\n",
              "</div>\n",
              "      <button class=\"colab-df-convert\" onclick=\"convertToInteractive('df-371f1d8e-f911-4227-a973-d78bbd8aebcc')\"\n",
              "              title=\"Convert this dataframe to an interactive table.\"\n",
              "              style=\"display:none;\">\n",
              "        \n",
              "  <svg xmlns=\"http://www.w3.org/2000/svg\" height=\"24px\"viewBox=\"0 0 24 24\"\n",
              "       width=\"24px\">\n",
              "    <path d=\"M0 0h24v24H0V0z\" fill=\"none\"/>\n",
              "    <path d=\"M18.56 5.44l.94 2.06.94-2.06 2.06-.94-2.06-.94-.94-2.06-.94 2.06-2.06.94zm-11 1L8.5 8.5l.94-2.06 2.06-.94-2.06-.94L8.5 2.5l-.94 2.06-2.06.94zm10 10l.94 2.06.94-2.06 2.06-.94-2.06-.94-.94-2.06-.94 2.06-2.06.94z\"/><path d=\"M17.41 7.96l-1.37-1.37c-.4-.4-.92-.59-1.43-.59-.52 0-1.04.2-1.43.59L10.3 9.45l-7.72 7.72c-.78.78-.78 2.05 0 2.83L4 21.41c.39.39.9.59 1.41.59.51 0 1.02-.2 1.41-.59l7.78-7.78 2.81-2.81c.8-.78.8-2.07 0-2.86zM5.41 20L4 18.59l7.72-7.72 1.47 1.35L5.41 20z\"/>\n",
              "  </svg>\n",
              "      </button>\n",
              "      \n",
              "  <style>\n",
              "    .colab-df-container {\n",
              "      display:flex;\n",
              "      flex-wrap:wrap;\n",
              "      gap: 12px;\n",
              "    }\n",
              "\n",
              "    .colab-df-convert {\n",
              "      background-color: #E8F0FE;\n",
              "      border: none;\n",
              "      border-radius: 50%;\n",
              "      cursor: pointer;\n",
              "      display: none;\n",
              "      fill: #1967D2;\n",
              "      height: 32px;\n",
              "      padding: 0 0 0 0;\n",
              "      width: 32px;\n",
              "    }\n",
              "\n",
              "    .colab-df-convert:hover {\n",
              "      background-color: #E2EBFA;\n",
              "      box-shadow: 0px 1px 2px rgba(60, 64, 67, 0.3), 0px 1px 3px 1px rgba(60, 64, 67, 0.15);\n",
              "      fill: #174EA6;\n",
              "    }\n",
              "\n",
              "    [theme=dark] .colab-df-convert {\n",
              "      background-color: #3B4455;\n",
              "      fill: #D2E3FC;\n",
              "    }\n",
              "\n",
              "    [theme=dark] .colab-df-convert:hover {\n",
              "      background-color: #434B5C;\n",
              "      box-shadow: 0px 1px 3px 1px rgba(0, 0, 0, 0.15);\n",
              "      filter: drop-shadow(0px 1px 2px rgba(0, 0, 0, 0.3));\n",
              "      fill: #FFFFFF;\n",
              "    }\n",
              "  </style>\n",
              "\n",
              "      <script>\n",
              "        const buttonEl =\n",
              "          document.querySelector('#df-371f1d8e-f911-4227-a973-d78bbd8aebcc button.colab-df-convert');\n",
              "        buttonEl.style.display =\n",
              "          google.colab.kernel.accessAllowed ? 'block' : 'none';\n",
              "\n",
              "        async function convertToInteractive(key) {\n",
              "          const element = document.querySelector('#df-371f1d8e-f911-4227-a973-d78bbd8aebcc');\n",
              "          const dataTable =\n",
              "            await google.colab.kernel.invokeFunction('convertToInteractive',\n",
              "                                                     [key], {});\n",
              "          if (!dataTable) return;\n",
              "\n",
              "          const docLinkHtml = 'Like what you see? Visit the ' +\n",
              "            '<a target=\"_blank\" href=https://colab.research.google.com/notebooks/data_table.ipynb>data table notebook</a>'\n",
              "            + ' to learn more about interactive tables.';\n",
              "          element.innerHTML = '';\n",
              "          dataTable['output_type'] = 'display_data';\n",
              "          await google.colab.output.renderOutput(dataTable, element);\n",
              "          const docLink = document.createElement('div');\n",
              "          docLink.innerHTML = docLinkHtml;\n",
              "          element.appendChild(docLink);\n",
              "        }\n",
              "      </script>\n",
              "    </div>\n",
              "  </div>\n",
              "  "
            ]
          },
          "metadata": {},
          "execution_count": 39
        }
      ]
    },
    {
      "cell_type": "code",
      "source": [
        "cluster0 = df_cat.loc[df_cat.cluster == 0]"
      ],
      "metadata": {
        "id": "OS2n1DBqrbDn"
      },
      "execution_count": 42,
      "outputs": []
    },
    {
      "cell_type": "code",
      "source": [
        "cluster0.describe(include='all')"
      ],
      "metadata": {
        "colab": {
          "base_uri": "https://localhost:8080/",
          "height": 394
        },
        "id": "aaV5HTrhoikZ",
        "outputId": "859fb938-1bb4-43fe-9a1c-9b09d2b20ac7"
      },
      "execution_count": 43,
      "outputs": [
        {
          "output_type": "execute_result",
          "data": {
            "text/plain": [
              "        cluster                   grupo descricao_dose cat_idade_str\n",
              "count    1503.0                    1503           1503          1503\n",
              "unique      NaN                      11              3             4\n",
              "top         NaN  TRABALHADORES DA SAÚDE            3.0        adulto\n",
              "freq        NaN                    1272            515          1329\n",
              "mean        0.0                     NaN            NaN           NaN\n",
              "std         0.0                     NaN            NaN           NaN\n",
              "min         0.0                     NaN            NaN           NaN\n",
              "25%         0.0                     NaN            NaN           NaN\n",
              "50%         0.0                     NaN            NaN           NaN\n",
              "75%         0.0                     NaN            NaN           NaN\n",
              "max         0.0                     NaN            NaN           NaN"
            ],
            "text/html": [
              "\n",
              "  <div id=\"df-09c9bcd5-7830-4837-b077-722293a487c2\">\n",
              "    <div class=\"colab-df-container\">\n",
              "      <div>\n",
              "<style scoped>\n",
              "    .dataframe tbody tr th:only-of-type {\n",
              "        vertical-align: middle;\n",
              "    }\n",
              "\n",
              "    .dataframe tbody tr th {\n",
              "        vertical-align: top;\n",
              "    }\n",
              "\n",
              "    .dataframe thead th {\n",
              "        text-align: right;\n",
              "    }\n",
              "</style>\n",
              "<table border=\"1\" class=\"dataframe\">\n",
              "  <thead>\n",
              "    <tr style=\"text-align: right;\">\n",
              "      <th></th>\n",
              "      <th>cluster</th>\n",
              "      <th>grupo</th>\n",
              "      <th>descricao_dose</th>\n",
              "      <th>cat_idade_str</th>\n",
              "    </tr>\n",
              "  </thead>\n",
              "  <tbody>\n",
              "    <tr>\n",
              "      <th>count</th>\n",
              "      <td>1503.0</td>\n",
              "      <td>1503</td>\n",
              "      <td>1503</td>\n",
              "      <td>1503</td>\n",
              "    </tr>\n",
              "    <tr>\n",
              "      <th>unique</th>\n",
              "      <td>NaN</td>\n",
              "      <td>11</td>\n",
              "      <td>3</td>\n",
              "      <td>4</td>\n",
              "    </tr>\n",
              "    <tr>\n",
              "      <th>top</th>\n",
              "      <td>NaN</td>\n",
              "      <td>TRABALHADORES DA SAÚDE</td>\n",
              "      <td>3.0</td>\n",
              "      <td>adulto</td>\n",
              "    </tr>\n",
              "    <tr>\n",
              "      <th>freq</th>\n",
              "      <td>NaN</td>\n",
              "      <td>1272</td>\n",
              "      <td>515</td>\n",
              "      <td>1329</td>\n",
              "    </tr>\n",
              "    <tr>\n",
              "      <th>mean</th>\n",
              "      <td>0.0</td>\n",
              "      <td>NaN</td>\n",
              "      <td>NaN</td>\n",
              "      <td>NaN</td>\n",
              "    </tr>\n",
              "    <tr>\n",
              "      <th>std</th>\n",
              "      <td>0.0</td>\n",
              "      <td>NaN</td>\n",
              "      <td>NaN</td>\n",
              "      <td>NaN</td>\n",
              "    </tr>\n",
              "    <tr>\n",
              "      <th>min</th>\n",
              "      <td>0.0</td>\n",
              "      <td>NaN</td>\n",
              "      <td>NaN</td>\n",
              "      <td>NaN</td>\n",
              "    </tr>\n",
              "    <tr>\n",
              "      <th>25%</th>\n",
              "      <td>0.0</td>\n",
              "      <td>NaN</td>\n",
              "      <td>NaN</td>\n",
              "      <td>NaN</td>\n",
              "    </tr>\n",
              "    <tr>\n",
              "      <th>50%</th>\n",
              "      <td>0.0</td>\n",
              "      <td>NaN</td>\n",
              "      <td>NaN</td>\n",
              "      <td>NaN</td>\n",
              "    </tr>\n",
              "    <tr>\n",
              "      <th>75%</th>\n",
              "      <td>0.0</td>\n",
              "      <td>NaN</td>\n",
              "      <td>NaN</td>\n",
              "      <td>NaN</td>\n",
              "    </tr>\n",
              "    <tr>\n",
              "      <th>max</th>\n",
              "      <td>0.0</td>\n",
              "      <td>NaN</td>\n",
              "      <td>NaN</td>\n",
              "      <td>NaN</td>\n",
              "    </tr>\n",
              "  </tbody>\n",
              "</table>\n",
              "</div>\n",
              "      <button class=\"colab-df-convert\" onclick=\"convertToInteractive('df-09c9bcd5-7830-4837-b077-722293a487c2')\"\n",
              "              title=\"Convert this dataframe to an interactive table.\"\n",
              "              style=\"display:none;\">\n",
              "        \n",
              "  <svg xmlns=\"http://www.w3.org/2000/svg\" height=\"24px\"viewBox=\"0 0 24 24\"\n",
              "       width=\"24px\">\n",
              "    <path d=\"M0 0h24v24H0V0z\" fill=\"none\"/>\n",
              "    <path d=\"M18.56 5.44l.94 2.06.94-2.06 2.06-.94-2.06-.94-.94-2.06-.94 2.06-2.06.94zm-11 1L8.5 8.5l.94-2.06 2.06-.94-2.06-.94L8.5 2.5l-.94 2.06-2.06.94zm10 10l.94 2.06.94-2.06 2.06-.94-2.06-.94-.94-2.06-.94 2.06-2.06.94z\"/><path d=\"M17.41 7.96l-1.37-1.37c-.4-.4-.92-.59-1.43-.59-.52 0-1.04.2-1.43.59L10.3 9.45l-7.72 7.72c-.78.78-.78 2.05 0 2.83L4 21.41c.39.39.9.59 1.41.59.51 0 1.02-.2 1.41-.59l7.78-7.78 2.81-2.81c.8-.78.8-2.07 0-2.86zM5.41 20L4 18.59l7.72-7.72 1.47 1.35L5.41 20z\"/>\n",
              "  </svg>\n",
              "      </button>\n",
              "      \n",
              "  <style>\n",
              "    .colab-df-container {\n",
              "      display:flex;\n",
              "      flex-wrap:wrap;\n",
              "      gap: 12px;\n",
              "    }\n",
              "\n",
              "    .colab-df-convert {\n",
              "      background-color: #E8F0FE;\n",
              "      border: none;\n",
              "      border-radius: 50%;\n",
              "      cursor: pointer;\n",
              "      display: none;\n",
              "      fill: #1967D2;\n",
              "      height: 32px;\n",
              "      padding: 0 0 0 0;\n",
              "      width: 32px;\n",
              "    }\n",
              "\n",
              "    .colab-df-convert:hover {\n",
              "      background-color: #E2EBFA;\n",
              "      box-shadow: 0px 1px 2px rgba(60, 64, 67, 0.3), 0px 1px 3px 1px rgba(60, 64, 67, 0.15);\n",
              "      fill: #174EA6;\n",
              "    }\n",
              "\n",
              "    [theme=dark] .colab-df-convert {\n",
              "      background-color: #3B4455;\n",
              "      fill: #D2E3FC;\n",
              "    }\n",
              "\n",
              "    [theme=dark] .colab-df-convert:hover {\n",
              "      background-color: #434B5C;\n",
              "      box-shadow: 0px 1px 3px 1px rgba(0, 0, 0, 0.15);\n",
              "      filter: drop-shadow(0px 1px 2px rgba(0, 0, 0, 0.3));\n",
              "      fill: #FFFFFF;\n",
              "    }\n",
              "  </style>\n",
              "\n",
              "      <script>\n",
              "        const buttonEl =\n",
              "          document.querySelector('#df-09c9bcd5-7830-4837-b077-722293a487c2 button.colab-df-convert');\n",
              "        buttonEl.style.display =\n",
              "          google.colab.kernel.accessAllowed ? 'block' : 'none';\n",
              "\n",
              "        async function convertToInteractive(key) {\n",
              "          const element = document.querySelector('#df-09c9bcd5-7830-4837-b077-722293a487c2');\n",
              "          const dataTable =\n",
              "            await google.colab.kernel.invokeFunction('convertToInteractive',\n",
              "                                                     [key], {});\n",
              "          if (!dataTable) return;\n",
              "\n",
              "          const docLinkHtml = 'Like what you see? Visit the ' +\n",
              "            '<a target=\"_blank\" href=https://colab.research.google.com/notebooks/data_table.ipynb>data table notebook</a>'\n",
              "            + ' to learn more about interactive tables.';\n",
              "          element.innerHTML = '';\n",
              "          dataTable['output_type'] = 'display_data';\n",
              "          await google.colab.output.renderOutput(dataTable, element);\n",
              "          const docLink = document.createElement('div');\n",
              "          docLink.innerHTML = docLinkHtml;\n",
              "          element.appendChild(docLink);\n",
              "        }\n",
              "      </script>\n",
              "    </div>\n",
              "  </div>\n",
              "  "
            ]
          },
          "metadata": {},
          "execution_count": 43
        }
      ]
    },
    {
      "cell_type": "code",
      "source": [],
      "metadata": {
        "id": "tm24UIteolzs"
      },
      "execution_count": null,
      "outputs": []
    }
  ]
}